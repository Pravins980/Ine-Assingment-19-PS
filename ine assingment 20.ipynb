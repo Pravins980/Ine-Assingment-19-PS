{
 "cells": [
  {
   "cell_type": "code",
   "execution_count": 1,
   "id": "2359730d",
   "metadata": {},
   "outputs": [
    {
     "data": {
      "text/plain": [
       "44"
      ]
     },
     "execution_count": 1,
     "metadata": {},
     "output_type": "execute_result"
    }
   ],
   "source": [
    "#1. Set the variable test1 to the string 'This is a test of the emergency text system,' and save test1 to a file named test.txt.\n",
    "test1=('This is a test of the emergency text system,')\n",
    "len(test1)"
   ]
  },
  {
   "cell_type": "code",
   "execution_count": 2,
   "id": "8f7953d9",
   "metadata": {},
   "outputs": [],
   "source": [
    "with open('test.txt','wt') as outfile:\n",
    "    outfile.write(test1)"
   ]
  },
  {
   "cell_type": "code",
   "execution_count": 3,
   "id": "61c042a3",
   "metadata": {},
   "outputs": [],
   "source": [
    "outfile.close()"
   ]
  },
  {
   "cell_type": "code",
   "execution_count": 4,
   "id": "5e05b03e",
   "metadata": {},
   "outputs": [
    {
     "data": {
      "text/plain": [
       "44"
      ]
     },
     "execution_count": 4,
     "metadata": {},
     "output_type": "execute_result"
    }
   ],
   "source": [
    "#2. Read the contents of the file test.txt into the variable test2. Is there a difference between test 1 and test 2?\n",
    "with open('test.txt', 'rt') as infile:\n",
    "    test2 = infile.read()\n",
    "len(test2)\n",
    "    "
   ]
  },
  {
   "cell_type": "code",
   "execution_count": 5,
   "id": "8d1604d1",
   "metadata": {},
   "outputs": [
    {
     "data": {
      "text/plain": [
       "True"
      ]
     },
     "execution_count": 5,
     "metadata": {},
     "output_type": "execute_result"
    }
   ],
   "source": [
    "test1==test2"
   ]
  },
  {
   "cell_type": "code",
   "execution_count": 6,
   "id": "ceb2c8ab",
   "metadata": {},
   "outputs": [],
   "source": [
    "#3. Create a CSV file called books.csv by using these lines:\n",
    "text='''title,author,year\n",
    "The Weirdstone of Brisingamen,Alan Garner,1960\n",
    "Perdido Street Station,China Miéville,2000\n",
    "Thud!,Terry Pratchett,2005\n",
    "The Spellman Files,Lisa Lutz,2007\n",
    "Small Gods,Terry Pratchett,1992\n",
    "'''\n",
    "with open('books.csv','wt')as outfile:\n",
    "    outfile.write(text)\n",
    "    "
   ]
  },
  {
   "cell_type": "code",
   "execution_count": 13,
   "id": "665ca459",
   "metadata": {},
   "outputs": [
    {
     "data": {
      "text/plain": [
       "<sqlite3.Cursor at 0x22345ca4b20>"
      ]
     },
     "execution_count": 13,
     "metadata": {},
     "output_type": "execute_result"
    }
   ],
   "source": [
    "#4. Use the sqlite3 module to create a SQLite database called books.db, and a table called books with these fields: title (text), author (text), and year (integer).\n",
    "import sqlite3\n",
    "db = sqlite3.connect('books.db')\n",
    "curs = db.cursor()\n",
    "curs.execute('''create table boook (title text, author text, year int)''')"
   ]
  },
  {
   "cell_type": "code",
   "execution_count": null,
   "id": "3d01d030",
   "metadata": {},
   "outputs": [],
   "source": [
    " db.commit()"
   ]
  },
  {
   "cell_type": "code",
   "execution_count": null,
   "id": "a9653da0",
   "metadata": {},
   "outputs": [],
   "source": [
    "#5. Read books.csv and insert its data into the book table.\n",
    "import csv\n",
    "import sqlite3\n",
    "ins_str = 'insert into book values(?, ?, ?)'\n",
    "with open('books.csv', 'rt') as infile:\n",
    "    books = csv.DictReader(infile)\n",
    "    for book in books:\n",
    "        curs.execute(ins_str, (book['title'], book['author'], book['year']))"
   ]
  },
  {
   "cell_type": "code",
   "execution_count": null,
   "id": "10b954eb",
   "metadata": {},
   "outputs": [],
   "source": [
    "db.commit()"
   ]
  },
  {
   "cell_type": "code",
   "execution_count": null,
   "id": "a63b7716",
   "metadata": {},
   "outputs": [],
   "source": [
    "#6. Select and print the title column from the book table in alphabetical order.\n",
    "sql = 'select title from book order by title asc'\n",
    "for row in db.execute(sql):\n",
    "    print(row)"
   ]
  },
  {
   "cell_type": "code",
   "execution_count": null,
   "id": "fa966f78",
   "metadata": {},
   "outputs": [],
   "source": [
    "#7. From the book table, select and print all columns in the order of publication.\n",
    "for row in db.execute(sql):\n",
    "    print(row[0])"
   ]
  },
  {
   "cell_type": "code",
   "execution_count": null,
   "id": "b7d23ad4",
   "metadata": {},
   "outputs": [],
   "source": [
    "#8. Use the sqlalchemy module to connect to the sqlite3 database books.db that you just made in exercise 6.\n",
    "import sqlalchemy\n",
    "conn = sqlalchemy.create_engine('sqlite:///books.db')\n",
    "sql = 'select title from book order by title asc'\n",
    "rows = conn.execute(sql)\n",
    "for row in rows:\n",
    "    print(row)"
   ]
  },
  {
   "cell_type": "code",
   "execution_count": 1,
   "id": "53a9f270",
   "metadata": {},
   "outputs": [
    {
     "name": "stdout",
     "output_type": "stream",
     "text": [
      "Requirement already satisfied: redis in c:\\users\\sharm\\appdata\\local\\programs\\python\\python39\\lib\\site-packages (4.2.2)\n",
      "Requirement already satisfied: deprecated>=1.2.3 in c:\\users\\sharm\\appdata\\local\\programs\\python\\python39\\lib\\site-packages (from redis) (1.2.13)\n",
      "Requirement already satisfied: packaging>=20.4 in c:\\users\\sharm\\appdata\\local\\programs\\python\\python39\\lib\\site-packages (from redis) (20.9)\n",
      "Requirement already satisfied: async-timeout>=4.0.2 in c:\\users\\sharm\\appdata\\local\\programs\\python\\python39\\lib\\site-packages (from redis) (4.0.2)\n",
      "Requirement already satisfied: wrapt<2,>=1.10 in c:\\users\\sharm\\appdata\\local\\programs\\python\\python39\\lib\\site-packages (from deprecated>=1.2.3->redis) (1.14.0)\n",
      "Requirement already satisfied: pyparsing>=2.0.2 in c:\\users\\sharm\\appdata\\local\\programs\\python\\python39\\lib\\site-packages (from packaging>=20.4->redis) (2.4.7)\n"
     ]
    }
   ],
   "source": [
    "#9. Install the Redis server and the Python redis library (pip install redis) on your computer. Create a Redis hash called test with the fields count (1) and name ('Fester Bestertester'). Print all the fields for test.\n",
    "! python -m pip install redis"
   ]
  },
  {
   "cell_type": "code",
   "execution_count": null,
   "id": "169c57b0",
   "metadata": {},
   "outputs": [],
   "source": []
  }
 ],
 "metadata": {
  "kernelspec": {
   "display_name": "Python 3",
   "language": "python",
   "name": "python3"
  },
  "language_info": {
   "codemirror_mode": {
    "name": "ipython",
    "version": 3
   },
   "file_extension": ".py",
   "mimetype": "text/x-python",
   "name": "python",
   "nbconvert_exporter": "python",
   "pygments_lexer": "ipython3",
   "version": "3.8.8"
  }
 },
 "nbformat": 4,
 "nbformat_minor": 5
}
